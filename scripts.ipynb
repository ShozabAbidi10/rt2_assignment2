{
 "cells": [
  {
   "cell_type": "markdown",
   "id": "45398480",
   "metadata": {},
   "source": [
    "# RT-2 Assignment 2 Report"
   ]
  },
  {
   "cell_type": "markdown",
   "id": "8e067f23",
   "metadata": {},
   "source": [
    "This project is based on the work done in its previous iteration which can be find here: https://github.com/ShozabAbidi10/rt2assignment_package. The main motivation of this project is improved the user interface of the project which was not very user and visual friendly. The user was only able to start and stop the simulation and there were no feedback and insights about what the robot is doing. In this project we have used Jupyter Notebook to developed a better interactive interface for our mobile robot simulation.\n",
    "We have also used Matplot library for graphical visualization of robot's data so that user can better analyze robot's behavior and performance through out the simulation. "
   ]
  },
  {
   "cell_type": "markdown",
   "id": "26a75c10",
   "metadata": {},
   "source": [
    "User interface offers following options to the user to interact with the simulation:\n",
    "\n",
    "1. Start and Stop button. \n",
    "\n",
    "Upon clicking the 'Start' Button the simulation will start in the Gazebo environemnt. In the simulation by default the robot will exhibit the 'random goal position' state that we developed in assignment 1 using 'action server'. In this state the robot will be assigned with a random target position in the grid where it has to reach. Upon reaching the target position, the 'state_machine_action' node will assign new random target to the robot  and this cycle will keeps on running forever unless interrupted by the user using the 'stop' button. When the user click on the stop button, the action previously assigned to the robot will cancel immediately. This is one of the benifit of using action server. "
   ]
  },
  {
   "cell_type": "code",
   "execution_count": 18,
   "id": "69045a1e",
   "metadata": {
    "scrolled": false
   },
   "outputs": [
    {
     "data": {
      "application/vnd.jupyter.widget-view+json": {
       "model_id": "c36166668e0441fd941fada5d659a699",
       "version_major": 2,
       "version_minor": 0
      },
      "text/plain": [
       "HBox(children=(VBox(children=(Button(description='Start!', style=ButtonStyle()), Button(description='Stop!', s…"
      ]
     },
     "metadata": {},
     "output_type": "display_data"
    }
   ],
   "source": [
    "%matplotlib widget\n",
    "\n",
    "import numpy as np\n",
    "import matplotlib.pyplot as plt\n",
    "import jupyros as jr\n",
    "from nav_msgs.msg import Odometry\n",
    "import time\n",
    "from matplotlib import animation, rc\n",
    "from actionlib_msgs.msg import GoalStatusArray\n",
    "from geometry_msgs.msg import Twist\n",
    "import ipywidgets as widgets\n",
    "from std_msgs.msg import String, Int32MultiArray\n",
    "import rospy\n",
    "import math\n",
    "# Simulation 1:\n",
    "sim_flag = \"off\"\n",
    "\n",
    "\n",
    "# Initializing rosnode.\n",
    "rospy.init_node('robot_control_node')\n",
    "pub1 = rospy.Publisher('user_interface_sig', String, queue_size=10)\n",
    "    \n",
    "\n",
    "start_button = widgets.Button(description=\"Start!\")\n",
    "stop_button = widgets.Button(description=\"Stop!\")\n",
    "output = widgets.Text(value=\"Click 'Start' Button to start the simulation.\",disabled=True)\n",
    "\n",
    "def on_start_button_clicked(b):\n",
    "    global sim_flag\n",
    "    output.value = 'Simulation Start!'\n",
    "    pub1.publish(\"1\")\n",
    "    sim_flag = \"on\"\n",
    "        \n",
    "def on_stop_button_clicked(b):\n",
    "    global sim_flag\n",
    "    output.value = 'Simulation Stop!'\n",
    "    pub1.publish(\"0\")\n",
    "    sim_flag = \"off\"\n",
    "\n",
    "\n",
    "start_button.on_click(on_start_button_clicked)\n",
    "stop_button.on_click(on_stop_button_clicked)\n",
    "\n",
    "widgets.HBox([widgets.VBox([start_button, stop_button]), output])\n"
   ]
  },
  {
   "cell_type": "markdown",
   "id": "f7ac3fea",
   "metadata": {},
   "source": [
    "2. Setting the linear and angular velocity.\n",
    "\n",
    "The user can set the linear and angular velocity of the robot by slidding the slider bars shown below. By default the sliders are at the lowest position which means that the robot is travelling at its slowest speed which can be increase. These slider bars set the values of the linear and angular velocity factors which are used in generating new velocities of the robot. At the maximum position, when the value of the slider bar is '1.0' the robot's velocity will get twice of its default velocity. "
   ]
  },
  {
   "cell_type": "code",
   "execution_count": 19,
   "id": "bd2883b3",
   "metadata": {
    "ExecuteTime": {
     "end_time": "2021-05-21T19:44:49.705210Z",
     "start_time": "2021-05-21T19:44:48.000693Z"
    },
    "scrolled": false
   },
   "outputs": [
    {
     "data": {
      "application/vnd.jupyter.widget-view+json": {
       "model_id": "30d37e19984c4dc6b0272ac984ac9b7e",
       "version_major": 2,
       "version_minor": 0
      },
      "text/plain": [
       "FloatSlider(value=0.0, max=1.0)"
      ]
     },
     "metadata": {},
     "output_type": "display_data"
    },
    {
     "data": {
      "application/vnd.jupyter.widget-view+json": {
       "model_id": "4b16ecc3e757403ca520588633a3d640",
       "version_major": 2,
       "version_minor": 0
      },
      "text/plain": [
       "FloatSlider(value=0.0, max=1.0)"
      ]
     },
     "metadata": {},
     "output_type": "display_data"
    }
   ],
   "source": [
    "from IPython.display import display\n",
    "\n",
    "pub = rospy.Publisher('control_speed', Twist, queue_size=10)\n",
    "\n",
    "msg = Twist()\n",
    "\n",
    "a = widgets.FloatSlider(min=0.0, max=1.0)\n",
    "display(a)\n",
    "\n",
    "b = widgets.FloatSlider(min=0.0, max=1.0)\n",
    "display(b)\n",
    "\n",
    "\n",
    "def on_value_change(change):\n",
    "    global msg\n",
    "    msg.linear.x = change['new']\n",
    "    output.value = 'Simulation Start!'\n",
    "    pub.publish(msg)\n",
    "    \n",
    "def on_valueang_change(change):\n",
    "    global msg\n",
    "    msg.angular.z = change['new']\n",
    "    pub.publish(msg)\n",
    "\n",
    "a.observe(on_value_change, names='value')\n",
    "b.observe(on_valueang_change, names='value')"
   ]
  },
  {
   "cell_type": "markdown",
   "id": "9782cca4",
   "metadata": {},
   "source": [
    "3. Directly Controlling the robot's movements using 5 buttons:\n",
    "\n",
    "The user can control the robot's movements by directly using the 5 buttons shown below. These buttons allow user to move the robot forward and backward, turn left and right and finally the last one is for stopping the robot. The user can interrupt the \"random target position\" state of the robot by clicking any of these buttons at any point in the simulation. By doing so the previously assigned random target will get cancel and the robot will change its state to the one where the user can directly control it. "
   ]
  },
  {
   "cell_type": "code",
   "execution_count": 3,
   "id": "065e7313",
   "metadata": {
    "scrolled": false
   },
   "outputs": [
    {
     "data": {
      "application/vnd.jupyter.widget-view+json": {
       "model_id": "8a82e03bdb6143c49d82d50a26ce532c",
       "version_major": 2,
       "version_minor": 0
      },
      "text/plain": [
       "HBox(children=(Button(description='Left!', style=ButtonStyle()), VBox(children=(Button(description='Forward!',…"
      ]
     },
     "metadata": {},
     "output_type": "display_data"
    }
   ],
   "source": [
    "pub2 = rospy.Publisher('/cmd_vel', Twist, queue_size=1)\n",
    "    \n",
    "msg2 = Twist()\n",
    "    \n",
    "f_button = widgets.Button(description=\"Forward!\")\n",
    "r_button = widgets.Button(description=\"Right!\")\n",
    "l_button = widgets.Button(description=\"Left!\")\n",
    "b_button = widgets.Button(description=\"Backward!\")\n",
    "s_button = widgets.Button(description=\"Stop!\")\n",
    "output1 = widgets.Text(value=\"Click Buttons to control the robot.\", disabled=True)\n",
    "\n",
    "def on_f_button_clicked(b):\n",
    "    global sim_flag\n",
    "    global msg2\n",
    "    \n",
    "    if (sim_flag == \"on\"):\n",
    "        output1.value = 'Stop Simulation1!'\n",
    "        pub1.publish(\"0\")\n",
    "        sim_flag = \"off\"\n",
    "    \n",
    "    msg2.linear.x = 0.5\n",
    "    msg2.angular.z = 0.0\n",
    "    pub2.publish(msg2)\n",
    "    output1.value = 'Forward!'\n",
    "    time.sleep(1)\n",
    "    output1.value = 'Click Buttons to control the robot.'\n",
    "        \n",
    "def on_r_button_clicked(b):\n",
    "    global sim_flag\n",
    "    global msg2\n",
    "    \n",
    "    if (sim_flag == \"on\"):\n",
    "        output1.value = 'Stop Simulation1!'\n",
    "        pub1.publish(\"0\")\n",
    "        sim_flag = \"off\"\n",
    "    \n",
    "    msg2.angular.z = 0.5\n",
    "    pub2.publish(msg2)\n",
    "    output1.value = 'Right!'\n",
    "    time.sleep(1)\n",
    "    output1.value = 'Click Buttons to control the robot.'\n",
    "\n",
    "def on_l_button_clicked(b):\n",
    "    global sim_flag\n",
    "    global msg2\n",
    "    \n",
    "    if (sim_flag == \"on\"):\n",
    "        output1.value = 'Stop Simulation1!'\n",
    "        pub1.publish(\"0\")\n",
    "        sim_flag = \"off\"\n",
    "        \n",
    "    msg2.angular.z = -0.5\n",
    "    pub2.publish(msg2)\n",
    "    output1.value = 'Left'\n",
    "    time.sleep(1)\n",
    "    output1.value = 'Click Buttons to control the robot.'\n",
    "    \n",
    "def on_b_button_clicked(b):\n",
    "    global sim_flag\n",
    "    global msg2\n",
    "    \n",
    "    if (sim_flag == \"on\"):\n",
    "        output1.value = 'Stop Simulation1!'\n",
    "        pub1.publish(\"0\")\n",
    "        sim_flag = \"off\"\n",
    "    \n",
    "    msg2.linear.x = -0.5\n",
    "    msg2.angular.z = 0.0\n",
    "    pub2.publish(msg2)\n",
    "    output1.value = 'Backward!'\n",
    "    time.sleep(1)\n",
    "    output1.value = 'Click Buttons to control the robot.'\n",
    "\n",
    "    \n",
    "def on_s_button_clicked(b):\n",
    "    global sim_flag\n",
    "    global msg2\n",
    "    \n",
    "    if (sim_flag == \"on\"):\n",
    "        output1.value = 'Stop Simulation1!'\n",
    "        pub1.publish(\"0\")\n",
    "        sim_flag = \"off\"\n",
    "        \n",
    "    msg2.linear.x = 0.0\n",
    "    msg2.angular.z = 0.0\n",
    "    pub2.publish(msg2)\n",
    "    output1.value = 'Stop!'\n",
    "    time.sleep(1)\n",
    "    output1.value = 'Click Buttons to control the robot.'\n",
    "    \n",
    "f_button.on_click(on_f_button_clicked)\n",
    "r_button.on_click(on_r_button_clicked)\n",
    "l_button.on_click(on_l_button_clicked)\n",
    "b_button.on_click(on_b_button_clicked)\n",
    "s_button.on_click(on_s_button_clicked)\n",
    "\n",
    "widgets.HBox([l_button, widgets.VBox([f_button, b_button]), r_button, s_button, output1])"
   ]
  },
  {
   "cell_type": "markdown",
   "id": "b6d6b795",
   "metadata": {},
   "source": [
    "Besides the features to interact with the robot, the inteface also provide following visiual feedbacks. \n",
    "\n",
    "1. An X-Y graph showing the robot's 2D trajectory:\n",
    "\n",
    "The graph shown below illustrate the 2D trajectory of the robot's position in x and y axes in {-5 x 5} grid. The robot's trajectory is extracted by subscribing to the '\\odom' topic in ROS which provides the robot position coordinates. For dynamically plotting the graph we used animation module of Matplotlib library. This module continously to updates the graphs as robot move inside Gazebo simulation."
   ]
  },
  {
   "cell_type": "code",
   "execution_count": 4,
   "id": "607ddf4e",
   "metadata": {
    "ExecuteTime": {
     "end_time": "2021-05-21T19:44:49.831080Z",
     "start_time": "2021-05-21T19:44:49.715169Z"
    },
    "scrolled": false
   },
   "outputs": [
    {
     "data": {
      "application/vnd.jupyter.widget-view+json": {
       "model_id": "b4fd3b615cd24e739133e5a6194554d8",
       "version_major": 2,
       "version_minor": 0
      },
      "text/plain": [
       "Canvas(toolbar=Toolbar(toolitems=[('Home', 'Reset original view', 'home', 'home'), ('Back', 'Back to previous …"
      ]
     },
     "metadata": {},
     "output_type": "display_data"
    }
   ],
   "source": [
    "# First set up the figure and the axis \n",
    "fig3, ax3 = plt.subplots()\n",
    "\n",
    "ax3.set_xlim(( -5, 5))\n",
    "ax3.set_ylim((-5, 5))\n",
    "\n",
    "line, = ax3.plot([], [], 'ro')\n",
    "x_data=[]\n",
    "y_data=[]"
   ]
  },
  {
   "cell_type": "code",
   "execution_count": 5,
   "id": "37e162a4",
   "metadata": {
    "ExecuteTime": {
     "end_time": "2021-05-21T19:44:49.953504Z",
     "start_time": "2021-05-21T19:44:49.837852Z"
    },
    "scrolled": true
   },
   "outputs": [],
   "source": [
    "from nav_msgs.msg import Odometry\n",
    "\n",
    "def init():\n",
    "    line.set_data([], [])\n",
    "    return (line,)\n",
    "\n",
    "\n",
    "def odom_callback(msg):\n",
    "    y_data.append(msg.pose.pose.position.y)\n",
    "    x_data.append(msg.pose.pose.position.x)\n",
    "\n",
    "def animate(i):\n",
    "    line.set_data(x_data, y_data)\n",
    "    return (line,)\n",
    "\n",
    "\n",
    "sub1 = rospy.Subscriber('/odom', Odometry, odom_callback)"
   ]
  },
  {
   "cell_type": "code",
   "execution_count": 6,
   "id": "90ba5163",
   "metadata": {
    "ExecuteTime": {
     "end_time": "2021-05-21T19:44:49.978953Z",
     "start_time": "2021-05-21T19:44:49.960899Z"
    },
    "scrolled": true
   },
   "outputs": [],
   "source": [
    "# call the animator. blit=True means only re-draw the parts that have changed.\n",
    "\n",
    "anim = animation.FuncAnimation(fig3, animate, init_func=init,\n",
    "                               frames=100, interval=20, blit=True)\n"
   ]
  },
  {
   "cell_type": "markdown",
   "id": "c2f8b621",
   "metadata": {},
   "source": [
    "2. A bar displaying the number of reach and cancel targets.\n",
    "\n",
    "The bar graph shown below illustrate the number of successful and cancel targets that robot has reached so far. The total count of successful and cancel targets are stored in two variables defined in 'go_to_point_action' node. These two variables regularly pulishes the total counts in topics '/success_goals' and '/cancel_goals' which later gets subscribe in this notebook. To dynamically update the bar graph we call plotting function inside the callback fuctions of these two topics subcribers.\n"
   ]
  },
  {
   "cell_type": "code",
   "execution_count": 7,
   "id": "bc5b4f16",
   "metadata": {
    "scrolled": true
   },
   "outputs": [
    {
     "data": {
      "application/vnd.jupyter.widget-view+json": {
       "model_id": "f7fd39de3b004870899cbfeeaac9c46f",
       "version_major": 2,
       "version_minor": 0
      },
      "text/plain": [
       "Canvas(toolbar=Toolbar(toolitems=[('Home', 'Reset original view', 'home', 'home'), ('Back', 'Back to previous …"
      ]
     },
     "metadata": {},
     "output_type": "display_data"
    },
    {
     "data": {
      "text/plain": [
       "''"
      ]
     },
     "metadata": {},
     "output_type": "display_data"
    }
   ],
   "source": [
    "from IPython import display\n",
    "\n",
    "no_of_succ_goals = 0\n",
    "no_of_cancel_goals = 0\n",
    "\n",
    "# Build the plot\n",
    "fig1, ax1 = plt.subplots()\n",
    "hdisplay1 = display.display(\"\", display_id=True)\n",
    "\n",
    "\n",
    "def succ_status_callback(msg):\n",
    "        num = int(msg.data)\n",
    "        s = \"succ\"\n",
    "        pltsin1(num,s)\n",
    "\n",
    "def cancel_status_callback(msg):      \n",
    "        num = int(msg.data)\n",
    "        s = \"can\"\n",
    "        pltsin1(num,s)\n",
    "                \n",
    "def pltsin1(n,c):\n",
    "    global no_of_succ_goals\n",
    "    global no_of_cancel_goals\n",
    "    \n",
    "    if(c == \"succ\"):\n",
    "        no_of_succ_goals = n\n",
    "    else:\n",
    "        no_of_cancel_goals = n\n",
    "        \n",
    "    items = ['Successful Goals', 'Cancelled Goals']\n",
    "    x_pos = np.arange(len(items))\n",
    "    CTEs = [no_of_succ_goals, no_of_cancel_goals]\n",
    "    ax1.set_ylabel('No of Successful and Cancelled goals.')\n",
    "    ax1.set_xticks(x_pos)\n",
    "    ax1.set_xticklabels(items)\n",
    "    ax1.set_title('Simulation Status')\n",
    "    ax1.bar(x_pos, CTEs, align='center', alpha=1.0)\n",
    "    ax1.yaxis.grid(True)\n",
    "    hdisplay1.update(fig1)\n",
    "    \n",
    "    \n",
    "sub2 = rospy.Subscriber('/success_goals', String, succ_status_callback)\n",
    "sub3 = rospy.Subscriber('/cancel_goals', String, cancel_status_callback)\n",
    "\n",
    "\n",
    "plt.close(fig1)"
   ]
  },
  {
   "cell_type": "markdown",
   "id": "8f7d81f9",
   "metadata": {},
   "source": [
    "3. A Histogram displaying the time taken by the robot to reach the target.\n",
    "\n",
    "The histogram shown below plot the time taken by the robot to reach all the assigned targets sofar. This is done by attaching a timer with every assign target to the robot which gets stop automatically when the robot has successfully reach the target position. Similarly all the timer data of the successfully reach targets stored in a list in 'go_to_point_action' node which gets publish in ROS topic '/task_time'. This topic gets subscribe in this notebook to extract the data. To dynamically update the histogran we call the plotting function inside the callback fuctions of the subcriber."
   ]
  },
  {
   "cell_type": "code",
   "execution_count": 8,
   "id": "2d76b9fa",
   "metadata": {
    "scrolled": false
   },
   "outputs": [
    {
     "data": {
      "application/vnd.jupyter.widget-view+json": {
       "model_id": "bce6b71909b641b7be40ec7715a6458d",
       "version_major": 2,
       "version_minor": 0
      },
      "text/plain": [
       "Canvas(toolbar=Toolbar(toolitems=[('Home', 'Reset original view', 'home', 'home'), ('Back', 'Back to previous …"
      ]
     },
     "metadata": {},
     "output_type": "display_data"
    },
    {
     "data": {
      "text/plain": [
       "''"
      ]
     },
     "metadata": {},
     "output_type": "display_data"
    }
   ],
   "source": [
    "import math\n",
    "\n",
    "output_sim1 = widgets.Text(value=\"Time\",disabled=True)\n",
    "\n",
    "\n",
    "#time_taken_array = []\n",
    "# Build the plot\n",
    "fig2, ax2 = plt.subplots(1,figsize=(12,4))\n",
    "hdisplay2 = display.display(\"\", display_id=True)\n",
    "\n",
    "def callback_time_taken(msg):\n",
    "    output_sim1.value = str(msg.data[0])\n",
    "    bin_edges = [15,20,21,22,23,24,25,26,27,28,29,30,31,32,33,34,35,36,37,38,39,40,41,42,43,44,45,46,47,48,49,50]\n",
    "    ax2.set_xlabel('Commute time (min)')\n",
    "    ax2.set_ylabel('Number of Completed Tasks')\n",
    "    ax2.set_xticks([15,20,21,22,23,24,25,26,27,28,29,30,31,32,33,34,35,36,37,38,39,40,41,42,43,44,45,46,47,48,49,50])\n",
    "    ax2.set_title('Histogram of Completed Tasks time')\n",
    "    ax2.hist(msg.data, bins=bin_edges, density=False, histtype='bar', color='b', edgecolor='k', alpha=0.5)\n",
    "    ax2.yaxis.grid(True)\n",
    "    hdisplay2.update(fig2)\n",
    "    \n",
    "    \n",
    "sub4 = rospy.Subscriber('/task_time', Int32MultiArray, callback_time_taken)\n",
    "\n",
    "plt.close(fig2)"
   ]
  },
  {
   "cell_type": "markdown",
   "id": "0049b2d9",
   "metadata": {},
   "source": [
    "4. A line plot for visualizing cmd_vel vs. actual velocity.\n",
    "\n",
    "The two graphs shown below plot the actual (linear and angular) velocities of the robot verses the command velocities. The velocities data is extracted from '\\odom' and 'cmd_vel' ROS topics and store in different list variables defined in this notebook. For dynamically plotting the graph we used animation module of Matplotlib library. This allows to continously to updates the velocities graphs as robot move inside Gazebo simulation. To start the plotting clicks on the start button."
   ]
  },
  {
   "cell_type": "code",
   "execution_count": 20,
   "id": "74c41ca2",
   "metadata": {},
   "outputs": [],
   "source": [
    "output_sim2 = widgets.Text(value=\"Cmd angular velocity\",disabled=True)\n",
    "output_sim3 = widgets.Text(value=\"Cmd linear velocity\",disabled=True)\n",
    "output_sim4 = widgets.Text(value=\"Time\",disabled=True)\n",
    "output_sim5 = widgets.Text(value=\"Odom angular velocity\",disabled=True)\n",
    "output_sim6 = widgets.Text(value=\"Odom linear velocity\",disabled=True)\n",
    "output_sim7 = widgets.Text(value=\"Ckick Button to Start the Plot.\",disabled=True)\n",
    "plotStartButton = widgets.Button(description=\"Start!\")"
   ]
  },
  {
   "cell_type": "code",
   "execution_count": 15,
   "id": "1be83da8",
   "metadata": {
    "scrolled": true
   },
   "outputs": [
    {
     "data": {
      "application/vnd.jupyter.widget-view+json": {
       "model_id": "4a6b5187cebe4bbeb0956d00a6ef0b4c",
       "version_major": 2,
       "version_minor": 0
      },
      "text/plain": [
       "Canvas(toolbar=Toolbar(toolitems=[('Home', 'Reset original view', 'home', 'home'), ('Back', 'Back to previous …"
      ]
     },
     "metadata": {},
     "output_type": "display_data"
    }
   ],
   "source": [
    "%matplotlib widget\n",
    "\n",
    "# constants for angular velocity\n",
    "x_ang = []\n",
    "z_cmd = []\n",
    "z_odom = []\n",
    "\n",
    "# constants for linear velocity\n",
    "x_lin = []\n",
    "x_cmd = []\n",
    "x_odom = []\n",
    "\n",
    "# constants for extras:\n",
    "count = 0\n",
    "start_plot = False\n",
    "\n",
    "fig5, (ax5,ax6) = plt.subplots(2,figsize=(6,10))\n",
    "\n",
    "ang_cmd, = ax5.plot([])\n",
    "ang_odom, = ax5.plot([])\n",
    "lin_cmd, = ax6.plot([])\n",
    "lin_odom, = ax6.plot([])"
   ]
  },
  {
   "cell_type": "code",
   "execution_count": 21,
   "id": "1c968dbe",
   "metadata": {},
   "outputs": [
    {
     "data": {
      "application/vnd.jupyter.widget-view+json": {
       "model_id": "9f9d2d39a8df4f879f26dccdfc759d56",
       "version_major": 2,
       "version_minor": 0
      },
      "text/plain": [
       "HBox(children=(Button(description='Start!', style=ButtonStyle()), Text(value='Ckick Button to Start the Plot.'…"
      ]
     },
     "metadata": {},
     "output_type": "display_data"
    }
   ],
   "source": [
    "def animate_plot(i):\n",
    "    #global count\n",
    "    count = time.time()\n",
    "    x_lin.append(count)\n",
    "    x_ang.append(count)\n",
    "    \n",
    "    output_sim4.value = str(count)  \n",
    "    \n",
    "    ax5.set_xticks(range(len(x_ang)), x_ang)\n",
    "    ang_odom, = ax5.plot(z_odom, '-b')\n",
    "    ang_cmd, = ax5.plot(z_cmd[0:len(z_cmd):32], '-r')\n",
    "    \n",
    "    ax6.set_xticks(range(len(x_lin)), x_lin)\n",
    "    lin_odom, = ax6.plot(x_odom, '-b')\n",
    "    lin_cmd, = ax6.plot(x_cmd[0:len(x_cmd):32], '-r')\n",
    "\n",
    "    return ang_odom, lin_odom, lin_cmd, ang_cmd,\n",
    "    \n",
    "\n",
    "def init_plot():\n",
    "    \n",
    "    prev_time_stamp = math.floor(time.time())\n",
    "    \n",
    "    ax5.set_ylabel('Velocity')\n",
    "    ax5.set_xlabel('Time')\n",
    "    ax5.set_title('Angular Velocity')\n",
    "    \n",
    "    ax6.set_ylabel('Velocity')\n",
    "    ax6.set_xlabel('Time')\n",
    "    ax6.set_title('Linear Velocity')\n",
    "    \n",
    "    ax6.set_ylim(-1,1)\n",
    "    ax6.axhline(0, color='black', lw=1)\n",
    "    \n",
    "    ax5.set_ylim(-1,1)\n",
    "    ax5.axhline(0, color='black', lw=1)\n",
    "    \n",
    "    \n",
    "    ang_odom, = ax5.plot(z_odom, '-b', label='ang_odom')\n",
    "    \n",
    "    # Downsampling the 'cmd_vel' signal to match with 'odom signal'.\n",
    "    ang_cmd, = ax5.plot(z_cmd[0:len(z_cmd):32], '-r', label='ang_cmd')\n",
    "    ax5.legend(loc=\"upper right\")\n",
    "    \n",
    "    lin_odom, = ax6.plot(x_odom, '-b', label='lin_odom')\n",
    "    # Downsampling the 'cmd_vel' signal to match with 'odom signal'.\n",
    "    lin_cmd, = ax6.plot(x_cmd[0:len(x_cmd):32], '-r', label='lin_cmd')\n",
    "    ax6.legend(loc=\"upper right\")\n",
    "\n",
    "    return ang_odom, lin_odom, lin_cmd, ang_cmd, \n",
    "\n",
    "\n",
    "def callback_cmd_vel(msg):\n",
    "    if(start_plot):\n",
    "        z = []\n",
    "        z.append(msg.angular.x)\n",
    "        z.append(msg.angular.y)\n",
    "        z.append(msg.angular.z)\n",
    "        \n",
    "        # By default only 'z' component of the angular velocity is plotting but complete magnitude can be plot as well.\n",
    "        # Uncomment this line of code plotting magnitude.\n",
    "        #output_sim2.value = str(round(math.sqrt(sum(i**2 for i in z)),3))\n",
    "        #z_cmd.append(round(math.sqrt(sum(i**2 for i in z)),3))\n",
    "        \n",
    "        output_sim2.value = str(round(msg.angular.z,3))\n",
    "        z_cmd.append(round(msg.angular.z,3))\n",
    "        z = []\n",
    "        z.append(msg.linear.x)\n",
    "        z.append(msg.linear.y)\n",
    "        z.append(msg.linear.z)\n",
    "        \n",
    "        # By default only 'x' component of the linear velocity is plotting but complete magnitude can be plot as well.\n",
    "        # Uncomment this line of code plotting magnitude.\n",
    "        #output_sim3.value = str(round(math.sqrt(sum(i**2 for i in z)),3))\n",
    "        #x_cmd.append(round(math.sqrt(sum(i**2 for i in z)),3))\n",
    "        \n",
    "        output_sim3.value = str(round(msg.linear.x,3))\n",
    "        x_cmd.append(round(msg.linear.x,3))\n",
    "        z = []\n",
    "    \n",
    "def callback_odom2(msg):\n",
    "    if(start_plot):\n",
    "        v = []\n",
    "        v.append(msg.twist.twist.angular.x)\n",
    "        v.append(msg.twist.twist.angular.y)\n",
    "        v.append(msg.twist.twist.angular.z)\n",
    "        \n",
    "        # By default only 'x' component of the linear velocity is plotting but complete magnitude can be plot as well.\n",
    "        # Uncomment this line of code plotting magnitude.\n",
    "        #output_sim5.value = str(round(math.sqrt(sum(i**2 for i in v)),3))\n",
    "        #z_odom.append(round(math.sqrt(sum(i**2 for i in v)),3))\n",
    "        \n",
    "        output_sim5.value = str(round(msg.twist.twist.angular.z,3))\n",
    "        z_odom.append(round(msg.twist.twist.angular.z,3))\n",
    "        v = []\n",
    "        v.append(msg.twist.twist.linear.x)\n",
    "        v.append(msg.twist.twist.linear.y)\n",
    "        v.append(msg.twist.twist.linear.z)\n",
    "                \n",
    "        # By default only 'x' component of the linear velocity is plotting but complete magnitude can be plot as well.\n",
    "        # Uncomment this line of code plotting magnitude.\n",
    "        #output_sim6.value = str(round(math.sqrt(sum(i**2 for i in v)),3))\n",
    "        #x_odom.append(round(math.sqrt(sum(i**2 for i in v)),3))\n",
    "        \n",
    "        output_sim6.value = str(round(msg.twist.twist.linear.x,3))\n",
    "        x_odom.append(round(msg.twist.twist.linear.x,3))\n",
    "        v = []\n",
    "\n",
    "def on_plotStartButton(b):\n",
    "    global start_plot\n",
    "    \n",
    "    if(start_plot == False):\n",
    "        output_sim7.value = 'Plotting is On'\n",
    "        start_plot = True\n",
    "        plotStartButton.description = \"Stop!\"\n",
    "    else:\n",
    "        start_plot = False\n",
    "        output_sim7.value = 'Plotting is OFF'\n",
    "        plotStartButton.description = \"Start!\"\n",
    "\n",
    "    \n",
    "sub5 = rospy.Subscriber('/cmd_vel', Twist, callback_cmd_vel)\n",
    "sub6 = rospy.Subscriber('/odom', Odometry, callback_odom2)\n",
    "plotStartButton.on_click(on_plotStartButton)\n",
    "widgets.HBox([plotStartButton, output_sim7])"
   ]
  },
  {
   "cell_type": "code",
   "execution_count": 22,
   "id": "ce1c3bd3",
   "metadata": {},
   "outputs": [],
   "source": [
    "ani = animation.FuncAnimation(fig5, animate_plot, init_func=init_plot, interval=1000, blit=True)"
   ]
  },
  {
   "cell_type": "code",
   "execution_count": 23,
   "id": "71f2d87f",
   "metadata": {},
   "outputs": [
    {
     "data": {
      "application/vnd.jupyter.widget-view+json": {
       "model_id": "a3792df96d4f463a93fdf8d6b68fc179",
       "version_major": 2,
       "version_minor": 0
      },
      "text/plain": [
       "VBox(children=(HBox(children=(Text(value='Cmd angular velocity', disabled=True), Text(value='Cmd linear veloci…"
      ]
     },
     "metadata": {},
     "output_type": "display_data"
    }
   ],
   "source": [
    "widgets.VBox([widgets.HBox([output_sim2, output_sim3, output_sim4]),widgets.HBox([output_sim5, output_sim6])])"
   ]
  },
  {
   "cell_type": "code",
   "execution_count": null,
   "id": "0fba8d65",
   "metadata": {},
   "outputs": [],
   "source": []
  }
 ],
 "metadata": {
  "hide_input": false,
  "kernelspec": {
   "display_name": "Python 3 (ipykernel)",
   "language": "python",
   "name": "python3"
  },
  "language_info": {
   "codemirror_mode": {
    "name": "ipython",
    "version": 3
   },
   "file_extension": ".py",
   "mimetype": "text/x-python",
   "name": "python",
   "nbconvert_exporter": "python",
   "pygments_lexer": "ipython3",
   "version": "3.8.5"
  },
  "toc": {
   "base_numbering": 1,
   "nav_menu": {},
   "number_sections": true,
   "sideBar": true,
   "skip_h1_title": false,
   "title_cell": "Table of Contents",
   "title_sidebar": "Contents",
   "toc_cell": false,
   "toc_position": {},
   "toc_section_display": true,
   "toc_window_display": false
  },
  "varInspector": {
   "cols": {
    "lenName": 16,
    "lenType": 16,
    "lenVar": 40
   },
   "kernels_config": {
    "python": {
     "delete_cmd_postfix": "",
     "delete_cmd_prefix": "del ",
     "library": "var_list.py",
     "varRefreshCmd": "print(var_dic_list())"
    },
    "r": {
     "delete_cmd_postfix": ") ",
     "delete_cmd_prefix": "rm(",
     "library": "var_list.r",
     "varRefreshCmd": "cat(var_dic_list()) "
    }
   },
   "types_to_exclude": [
    "module",
    "function",
    "builtin_function_or_method",
    "instance",
    "_Feature"
   ],
   "window_display": false
  }
 },
 "nbformat": 4,
 "nbformat_minor": 5
}
