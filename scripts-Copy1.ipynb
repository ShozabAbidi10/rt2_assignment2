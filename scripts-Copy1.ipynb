{
 "cells": [
  {
   "cell_type": "code",
   "execution_count": 1,
   "id": "69045a1e",
   "metadata": {
    "scrolled": true
   },
   "outputs": [
    {
     "data": {
      "application/vnd.jupyter.widget-view+json": {
       "model_id": "9dab28461fd1475aaadc8a34975fd4c7",
       "version_major": 2,
       "version_minor": 0
      },
      "text/plain": [
       "HBox(children=(VBox(children=(Button(description='Start!', style=ButtonStyle()), Button(description='Stop!', s…"
      ]
     },
     "metadata": {},
     "output_type": "display_data"
    }
   ],
   "source": [
    "%matplotlib widget\n",
    "#%matplotlib inline\n",
    "\n",
    "import numpy as np\n",
    "import matplotlib.pyplot as plt\n",
    "import jupyros as jr\n",
    "#from rt2_assignment1.msg import Sim\n",
    "from nav_msgs.msg import Odometry\n",
    "import time\n",
    "from matplotlib import animation, rc\n",
    "from actionlib_msgs.msg import GoalStatusArray\n",
    "from geometry_msgs.msg import Twist\n",
    "import ipywidgets as widgets\n",
    "from std_msgs.msg import String, Int32MultiArray\n",
    "import rospy\n",
    "import math\n",
    "# Simulation 1:\n",
    "sim_flag = \"off\"\n",
    "\n",
    "\n",
    "# Initializing rosnode.\n",
    "rospy.init_node('robot_control_node')\n",
    "pub1 = rospy.Publisher('user_interface_sig', String, queue_size=10)\n",
    "    \n",
    "\n",
    "start_button = widgets.Button(description=\"Start!\")\n",
    "stop_button = widgets.Button(description=\"Stop!\")\n",
    "output = widgets.Text(value=\"Click 'Start' Button to start the simulation.\",disabled=True)\n",
    "\n",
    "def on_start_button_clicked(b):\n",
    "    global sim_flag\n",
    "    output.value = 'Simulation Start!'\n",
    "    pub1.publish(\"1\")\n",
    "    sim_flag = \"on\"\n",
    "        \n",
    "def on_stop_button_clicked(b):\n",
    "    global sim_flag\n",
    "    output.value = 'Simulation Stop!'\n",
    "    pub1.publish(\"0\")\n",
    "    sim_flag = \"off\"\n",
    "\n",
    "\n",
    "start_button.on_click(on_start_button_clicked)\n",
    "stop_button.on_click(on_stop_button_clicked)\n",
    "\n",
    "widgets.HBox([widgets.VBox([start_button, stop_button]), output])\n"
   ]
  },
  {
   "cell_type": "code",
   "execution_count": 2,
   "id": "bd2883b3",
   "metadata": {
    "ExecuteTime": {
     "end_time": "2021-05-21T19:44:49.705210Z",
     "start_time": "2021-05-21T19:44:48.000693Z"
    },
    "scrolled": false
   },
   "outputs": [
    {
     "data": {
      "application/vnd.jupyter.widget-view+json": {
       "model_id": "2118a58d22c7499abda6ea28377f446b",
       "version_major": 2,
       "version_minor": 0
      },
      "text/plain": [
       "FloatSlider(value=0.0, max=1.0)"
      ]
     },
     "metadata": {},
     "output_type": "display_data"
    },
    {
     "data": {
      "application/vnd.jupyter.widget-view+json": {
       "model_id": "45f1915f7bc942aab183444ede4431ff",
       "version_major": 2,
       "version_minor": 0
      },
      "text/plain": [
       "FloatSlider(value=0.0, max=1.0)"
      ]
     },
     "metadata": {},
     "output_type": "display_data"
    }
   ],
   "source": [
    "from IPython.display import display\n",
    "\n",
    "pub = rospy.Publisher('control_speed', Twist, queue_size=10)\n",
    "\n",
    "msg = Twist()\n",
    "\n",
    "a = widgets.FloatSlider(min=0.0, max=1.0)\n",
    "display(a)\n",
    "\n",
    "b = widgets.FloatSlider(min=0.0, max=1.0)\n",
    "display(b)\n",
    "\n",
    "\n",
    "def on_value_change(change):\n",
    "    global msg\n",
    "    msg.linear.x = change['new']\n",
    "    output.value = 'Simulation Start!'\n",
    "    pub.publish(msg)\n",
    "    \n",
    "def on_valueang_change(change):\n",
    "    global msg\n",
    "    msg.angular.z = change['new']\n",
    "    pub.publish(msg)\n",
    "\n",
    "a.observe(on_value_change, names='value')\n",
    "b.observe(on_valueang_change, names='value')"
   ]
  },
  {
   "cell_type": "code",
   "execution_count": 3,
   "id": "065e7313",
   "metadata": {
    "scrolled": false
   },
   "outputs": [
    {
     "data": {
      "application/vnd.jupyter.widget-view+json": {
       "model_id": "a35a6129cc5a49b5942a33dd59d01f1a",
       "version_major": 2,
       "version_minor": 0
      },
      "text/plain": [
       "HBox(children=(Button(description='Left!', style=ButtonStyle()), VBox(children=(Button(description='Forward!',…"
      ]
     },
     "metadata": {},
     "output_type": "display_data"
    }
   ],
   "source": [
    "pub2 = rospy.Publisher('/cmd_vel', Twist, queue_size=1)\n",
    "    \n",
    "msg2 = Twist()\n",
    "    \n",
    "f_button = widgets.Button(description=\"Forward!\")\n",
    "r_button = widgets.Button(description=\"Right!\")\n",
    "l_button = widgets.Button(description=\"Left!\")\n",
    "b_button = widgets.Button(description=\"Backward!\")\n",
    "s_button = widgets.Button(description=\"Stop!\")\n",
    "output1 = widgets.Text(value=\"Click Buttons to control the robot.\", disabled=True)\n",
    "\n",
    "def on_f_button_clicked(b):\n",
    "    global sim_flag\n",
    "    global msg2\n",
    "    \n",
    "    if (sim_flag == \"on\"):\n",
    "        output1.value = 'Stop Simulation1!'\n",
    "        pub1.publish(\"0\")\n",
    "        sim_flag = \"off\"\n",
    "    \n",
    "    msg2.linear.x = 0.5\n",
    "    msg2.angular.z = 0.0\n",
    "    pub2.publish(msg2)\n",
    "    output1.value = 'Forward!'\n",
    "    time.sleep(1)\n",
    "    output1.value = 'Click Buttons to control the robot.'\n",
    "        \n",
    "def on_r_button_clicked(b):\n",
    "    global sim_flag\n",
    "    global msg2\n",
    "    \n",
    "    if (sim_flag == \"on\"):\n",
    "        output1.value = 'Stop Simulation1!'\n",
    "        pub1.publish(\"0\")\n",
    "        sim_flag = \"off\"\n",
    "    \n",
    "    msg2.angular.z = 0.5\n",
    "    pub2.publish(msg2)\n",
    "    output1.value = 'Right!'\n",
    "    time.sleep(1)\n",
    "    output1.value = 'Click Buttons to control the robot.'\n",
    "\n",
    "def on_l_button_clicked(b):\n",
    "    global sim_flag\n",
    "    global msg2\n",
    "    \n",
    "    if (sim_flag == \"on\"):\n",
    "        output1.value = 'Stop Simulation1!'\n",
    "        pub1.publish(\"0\")\n",
    "        sim_flag = \"off\"\n",
    "        \n",
    "    msg2.angular.z = -0.5\n",
    "    pub2.publish(msg2)\n",
    "    output1.value = 'Left'\n",
    "    time.sleep(1)\n",
    "    output1.value = 'Click Buttons to control the robot.'\n",
    "    \n",
    "def on_b_button_clicked(b):\n",
    "    global sim_flag\n",
    "    global msg2\n",
    "    \n",
    "    if (sim_flag == \"on\"):\n",
    "        output1.value = 'Stop Simulation1!'\n",
    "        pub1.publish(\"0\")\n",
    "        sim_flag = \"off\"\n",
    "    \n",
    "    msg2.linear.x = -0.5\n",
    "    msg2.angular.z = 0.0\n",
    "    pub2.publish(msg2)\n",
    "    output1.value = 'Backward!'\n",
    "    time.sleep(1)\n",
    "    output1.value = 'Click Buttons to control the robot.'\n",
    "\n",
    "    \n",
    "def on_s_button_clicked(b):\n",
    "    global sim_flag\n",
    "    global msg2\n",
    "    \n",
    "    if (sim_flag == \"on\"):\n",
    "        output1.value = 'Stop Simulation1!'\n",
    "        pub1.publish(\"0\")\n",
    "        sim_flag = \"off\"\n",
    "        \n",
    "    msg2.linear.x = 0.0\n",
    "    msg2.angular.z = 0.0\n",
    "    pub2.publish(msg2)\n",
    "    output1.value = 'Stop!'\n",
    "    time.sleep(1)\n",
    "    output1.value = 'Click Buttons to control the robot.'\n",
    "    \n",
    "f_button.on_click(on_f_button_clicked)\n",
    "r_button.on_click(on_r_button_clicked)\n",
    "l_button.on_click(on_l_button_clicked)\n",
    "b_button.on_click(on_b_button_clicked)\n",
    "s_button.on_click(on_s_button_clicked)\n",
    "\n",
    "widgets.HBox([l_button, widgets.VBox([f_button, b_button]), r_button, s_button, output1])"
   ]
  },
  {
   "cell_type": "code",
   "execution_count": null,
   "id": "65ddaf62",
   "metadata": {},
   "outputs": [],
   "source": []
  },
  {
   "cell_type": "code",
   "execution_count": 4,
   "id": "607ddf4e",
   "metadata": {
    "ExecuteTime": {
     "end_time": "2021-05-21T19:44:49.831080Z",
     "start_time": "2021-05-21T19:44:49.715169Z"
    },
    "scrolled": false
   },
   "outputs": [
    {
     "data": {
      "application/vnd.jupyter.widget-view+json": {
       "model_id": "5cf64e76847e466a90dd5cbc5ecd5df5",
       "version_major": 2,
       "version_minor": 0
      },
      "text/plain": [
       "Canvas(toolbar=Toolbar(toolitems=[('Home', 'Reset original view', 'home', 'home'), ('Back', 'Back to previous …"
      ]
     },
     "metadata": {},
     "output_type": "display_data"
    }
   ],
   "source": [
    "%matplotlib widget\n",
    "# First set up the figure and the axis \n",
    "fig3, ax3 = plt.subplots()\n",
    "\n",
    "ax3.set_xlim(( -5, 5))\n",
    "ax3.set_ylim((-5, 5))\n",
    "\n",
    "line, = ax3.plot([], [], 'ro')\n",
    "x_data=[]\n",
    "y_data=[]"
   ]
  },
  {
   "cell_type": "code",
   "execution_count": 5,
   "id": "37e162a4",
   "metadata": {
    "ExecuteTime": {
     "end_time": "2021-05-21T19:44:49.953504Z",
     "start_time": "2021-05-21T19:44:49.837852Z"
    },
    "scrolled": true
   },
   "outputs": [],
   "source": [
    "#from nav_msgs.msg import Odometry\n",
    "\n",
    "def init():\n",
    "    line.set_data([], [])\n",
    "    return (line,)\n",
    "\n",
    "\n",
    "def odom_callback(msg):\n",
    "    y_data.append(msg.pose.pose.position.y)\n",
    "    x_data.append(msg.pose.pose.position.x)\n",
    "\n",
    "def animate(i):\n",
    "    line.set_data(x_data, y_data)\n",
    "    return (line,)\n",
    "\n",
    "\n",
    "sub1 = rospy.Subscriber('/odom', Odometry, odom_callback)"
   ]
  },
  {
   "cell_type": "code",
   "execution_count": 6,
   "id": "90ba5163",
   "metadata": {
    "ExecuteTime": {
     "end_time": "2021-05-21T19:44:49.978953Z",
     "start_time": "2021-05-21T19:44:49.960899Z"
    },
    "scrolled": true
   },
   "outputs": [],
   "source": [
    "# call the animator. blit=True means only re-draw the parts that have changed.\n",
    "\n",
    "anim = animation.FuncAnimation(fig3, animate, init_func=init,\n",
    "                               frames=100, interval=20, blit=True)\n"
   ]
  },
  {
   "cell_type": "code",
   "execution_count": null,
   "id": "cc61f652",
   "metadata": {
    "scrolled": true
   },
   "outputs": [],
   "source": [
    "\n"
   ]
  },
  {
   "cell_type": "code",
   "execution_count": 7,
   "id": "bc5b4f16",
   "metadata": {
    "scrolled": true
   },
   "outputs": [
    {
     "data": {
      "application/vnd.jupyter.widget-view+json": {
       "model_id": "6d110e14b83a46bbbb5ade26e3323d90",
       "version_major": 2,
       "version_minor": 0
      },
      "text/plain": [
       "Canvas(toolbar=Toolbar(toolitems=[('Home', 'Reset original view', 'home', 'home'), ('Back', 'Back to previous …"
      ]
     },
     "metadata": {},
     "output_type": "display_data"
    },
    {
     "data": {
      "image/png": "[encoded data removed]",
      "text/plain": [
       "<Figure size 554.153x433.656 with 1 Axes>"
      ]
     },
     "metadata": {},
     "output_type": "display_data"
    }
   ],
   "source": [
    "from IPython import display\n",
    "\n",
    "no_of_succ_goals = 0\n",
    "no_of_cancel_goals = 0\n",
    "\n",
    "# Build the plot\n",
    "fig1, ax1 = plt.subplots()\n",
    "hdisplay1 = display.display(\"\", display_id=True)\n",
    "\n",
    "\n",
    "def succ_status_callback(msg):\n",
    "        num = int(msg.data)\n",
    "        s = \"succ\"\n",
    "        pltsin1(num,s)\n",
    "\n",
    "def cancel_status_callback(msg):      \n",
    "        num = int(msg.data)\n",
    "        s = \"can\"\n",
    "        pltsin1(num,s)\n",
    "                \n",
    "def pltsin1(n,c):\n",
    "    global no_of_succ_goals\n",
    "    global no_of_cancel_goals\n",
    "    \n",
    "    if(c == \"succ\"):\n",
    "        no_of_succ_goals = n\n",
    "    else:\n",
    "        no_of_cancel_goals = n\n",
    "        \n",
    "    items = ['Successful Goals', 'Cancelled Goals']\n",
    "    x_pos = np.arange(len(items))\n",
    "    CTEs = [no_of_succ_goals, no_of_cancel_goals]\n",
    "    ax1.set_ylabel('No of Successful and Cancelled goals.')\n",
    "    ax1.set_xticks(x_pos)\n",
    "    ax1.set_xticklabels(items)\n",
    "    ax1.set_title('Simulation Status')\n",
    "    ax1.bar(x_pos, CTEs, align='center', alpha=1.0)\n",
    "    ax1.yaxis.grid(True)\n",
    "    hdisplay1.update(fig1)\n",
    "    \n",
    "    \n",
    "sub2 = rospy.Subscriber('/success_goals', String, succ_status_callback)\n",
    "sub3 = rospy.Subscriber('/cancel_goals', String, cancel_status_callback)\n",
    "\n",
    "\n",
    "plt.close(fig1)"
   ]
  },
  {
   "cell_type": "code",
   "execution_count": 8,
   "id": "2d76b9fa",
   "metadata": {},
   "outputs": [
    {
     "data": {
      "application/vnd.jupyter.widget-view+json": {
       "model_id": "78b3277cada34f51b67e1c6efb6dd032",
       "version_major": 2,
       "version_minor": 0
      },
      "text/plain": [
       "Canvas(toolbar=Toolbar(toolitems=[('Home', 'Reset original view', 'home', 'home'), ('Back', 'Back to previous …"
      ]
     },
     "metadata": {},
     "output_type": "display_data"
    },
    {
     "data": {
      "image/png": "[encoded data removed]",
      "text/plain": [
       "<Figure size 640x480 with 1 Axes>"
      ]
     },
     "metadata": {},
     "output_type": "display_data"
    }
   ],
   "source": [
    "import math\n",
    "\n",
    "output_sim1 = widgets.Text(value=\"Time\",disabled=True)\n",
    "output_sim2 = widgets.Text(value=\"Time\",disabled=True)\n",
    "\n",
    "#time_taken_array = []\n",
    "# Build the plot\n",
    "fig2, ax2 = plt.subplots()\n",
    "hdisplay2 = display.display(\"\", display_id=True)\n",
    "\n",
    "def callback_time_taken(msg):\n",
    "    output_sim1.value = str(msg.data[0])\n",
    "    bin_edges = [5,10,15,20,25,30,35,40]\n",
    "    ax2.set_xlabel('Commute time (min)')\n",
    "    ax2.set_ylabel('Number of Completed Tasks')\n",
    "    ax2.set_xticks([5,10,15,20,25,30,35,40])\n",
    "    ax2.set_title('Histogram of Completed Tasks time')\n",
    "    ax2.hist(msg.data, bins=bin_edges, density=False, histtype='bar', color='b', edgecolor='k', alpha=0.5)\n",
    "    ax2.yaxis.grid(True)\n",
    "    hdisplay2.update(fig2)\n",
    "    \n",
    "    \n",
    "sub4 = rospy.Subscriber('/task_time', Int32MultiArray, callback_time_taken)\n",
    "\n",
    "plt.close(fig2)"
   ]
  },
  {
   "cell_type": "code",
   "execution_count": 9,
   "id": "74c41ca2",
   "metadata": {},
   "outputs": [
    {
     "data": {
      "application/vnd.jupyter.widget-view+json": {
       "model_id": "aa004e2b54bc4ecf81d2280d55f39e81",
       "version_major": 2,
       "version_minor": 0
      },
      "text/plain": [
       "VBox(children=(Text(value='Time', disabled=True),))"
      ]
     },
     "metadata": {},
     "output_type": "display_data"
    }
   ],
   "source": [
    "#%matplotlib inline\n",
    "\n",
    "#x = [2,2,2,3,1,1,3,4,4,4,4,4,4,5]\n",
    "\n",
    "#bin_edges = [2,4,6,8,10]\n",
    "#fig5 = plt.hist(x,\n",
    "#         bins=bin_edges,\n",
    "#         density=False,\n",
    "#         histtype='bar',\n",
    "#         color='b',\n",
    "#         edgecolor='k',\n",
    "#         alpha=0.5)\n",
    "\n",
    "#plt.xlabel('Commute time (min)')\n",
    "#plt.xticks([2,4,6,8,10])\n",
    "#plt.ylabel('Number of Completed Tasks')\n",
    "#plt.title('Histogram of Completed Tasks time')\n",
    "\n",
    "#plt.show(fig5)\n",
    "\n",
    "widgets.VBox([output_sim1])"
   ]
  },
  {
   "cell_type": "code",
   "execution_count": null,
   "id": "43f324b6",
   "metadata": {},
   "outputs": [],
   "source": []
  }
 ],
 "metadata": {
  "hide_input": false,
  "kernelspec": {
   "display_name": "Python 3 (ipykernel)",
   "language": "python",
   "name": "python3"
  },
  "language_info": {
   "codemirror_mode": {
    "name": "ipython",
    "version": 3
   },
   "file_extension": ".py",
   "mimetype": "text/x-python",
   "name": "python",
   "nbconvert_exporter": "python",
   "pygments_lexer": "ipython3",
   "version": "3.8.5"
  },
  "toc": {
   "base_numbering": 1,
   "nav_menu": {},
   "number_sections": true,
   "sideBar": true,
   "skip_h1_title": false,
   "title_cell": "Table of Contents",
   "title_sidebar": "Contents",
   "toc_cell": false,
   "toc_position": {},
   "toc_section_display": true,
   "toc_window_display": false
  },
  "varInspector": {
   "cols": {
    "lenName": 16,
    "lenType": 16,
    "lenVar": 40
   },
   "kernels_config": {
    "python": {
     "delete_cmd_postfix": "",
     "delete_cmd_prefix": "del ",
     "library": "var_list.py",
     "varRefreshCmd": "print(var_dic_list())"
    },
    "r": {
     "delete_cmd_postfix": ") ",
     "delete_cmd_prefix": "rm(",
     "library": "var_list.r",
     "varRefreshCmd": "cat(var_dic_list()) "
    }
   },
   "types_to_exclude": [
    "module",
    "function",
    "builtin_function_or_method",
    "instance",
    "_Feature"
   ],
   "window_display": false
  }
 },
 "nbformat": 4,
 "nbformat_minor": 5
}
